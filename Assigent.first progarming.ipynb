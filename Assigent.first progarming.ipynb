{
 "cells": [
  {
   "cell_type": "code",
   "execution_count": 1,
   "id": "3113032d",
   "metadata": {},
   "outputs": [],
   "source": [
    "#1. Write a Python program to print &quot;Hello Python&quot;?\n",
    "#2. Write a Python program to do arithmetical operations addition and division.?\n",
    "#3. Write a Python program to find the area of a triangle?\n",
    "#4. Write a Python program to swap two variables?\n",
    "#5. Write a Python program to generate a random number?"
   ]
  },
  {
   "cell_type": "code",
   "execution_count": 2,
   "id": "6c90afb7",
   "metadata": {},
   "outputs": [
    {
     "name": "stdout",
     "output_type": "stream",
     "text": [
      "Hello python\n"
     ]
    }
   ],
   "source": [
    "#1. Write a Python program to print &quot;Hello Python&quot;?\n",
    "\n",
    "print(\"Hello python\")"
   ]
  },
  {
   "cell_type": "code",
   "execution_count": 3,
   "id": "665b6bf1",
   "metadata": {},
   "outputs": [
    {
     "name": "stdout",
     "output_type": "stream",
     "text": [
      "Addition is  11 \n",
      "Division is 1.2\n"
     ]
    }
   ],
   "source": [
    "#2. Write a Python program to do arithmetical operations addition and division.?\n",
    "a = 6\n",
    "b = 5\n",
    "addition = a + b\n",
    "division = a/b\n",
    "print(\"Addition is \",addition ,\"\\nDivision is\",division)"
   ]
  },
  {
   "cell_type": "code",
   "execution_count": 8,
   "id": "8fbf3c9f",
   "metadata": {},
   "outputs": [
    {
     "name": "stdout",
     "output_type": "stream",
     "text": [
      "enter the value of 1st:6.2\n",
      "enter the value of 2nd:7.2\n",
      "enter the value of 3rd:8.2\n",
      "Semiparameter is: 10.8\n",
      "Area of triangle is 21.563969949895597\n"
     ]
    }
   ],
   "source": [
    "#3. Write a Python program to find the area of a triangle?\n",
    "a = float(input(\"enter the value of 1st:\"))\n",
    "b = float(input(\"enter the value of 2nd:\"))\n",
    "c = float(input(\"enter the value of 3rd:\"))\n",
    "s = (a+b+c)/2\n",
    "print(\"Semiparameter is:\",s)\n",
    "Area_of_triangle = (s*(s-a)*(s-b)*(s-c))**0.5\n",
    "print(\"Area of triangle is\",Area_of_triangle)"
   ]
  },
  {
   "cell_type": "code",
   "execution_count": 11,
   "id": "b7f8db97",
   "metadata": {},
   "outputs": [
    {
     "name": "stdout",
     "output_type": "stream",
     "text": [
      "Enter The Value X Before Swap:12\n",
      "Enter The Value of Y Before Swap:13\n",
      "The Value Of X After The Swap: 13\n",
      "The Value Of Y After The Swap: 12\n"
     ]
    }
   ],
   "source": [
    "##4. Write a Python program to swap two variables?\n",
    "x = int(input(\"Enter The Value X Before Swap:\"))\n",
    "y = int(input(\"Enter The Value of Y Before Swap:\"))\n",
    "temp = x\n",
    "x = y\n",
    "y = temp\n",
    "print(\"The Value Of X After The Swap:\",format(x))\n",
    "print(\"The Value Of Y After The Swap:\",format(y))"
   ]
  },
  {
   "cell_type": "code",
   "execution_count": 12,
   "id": "38237155",
   "metadata": {},
   "outputs": [
    {
     "name": "stdout",
     "output_type": "stream",
     "text": [
      "3\n"
     ]
    }
   ],
   "source": [
    "#4. Write a Python program to swap two variables?\n",
    "import random\n",
    "print(random.randint(0,10))"
   ]
  },
  {
   "cell_type": "code",
   "execution_count": null,
   "id": "471bce46",
   "metadata": {},
   "outputs": [],
   "source": []
  },
  {
   "cell_type": "code",
   "execution_count": null,
   "id": "191c0db5",
   "metadata": {},
   "outputs": [],
   "source": []
  }
 ],
 "metadata": {
  "kernelspec": {
   "display_name": "Python 3 (ipykernel)",
   "language": "python",
   "name": "python3"
  },
  "language_info": {
   "codemirror_mode": {
    "name": "ipython",
    "version": 3
   },
   "file_extension": ".py",
   "mimetype": "text/x-python",
   "name": "python",
   "nbconvert_exporter": "python",
   "pygments_lexer": "ipython3",
   "version": "3.9.13"
  }
 },
 "nbformat": 4,
 "nbformat_minor": 5
}
